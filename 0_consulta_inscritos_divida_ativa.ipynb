{
 "cells": [
  {
   "cell_type": "code",
   "execution_count": 1,
   "metadata": {},
   "outputs": [],
   "source": [
    "import time\n",
    "\n",
    "from element_manager import get_xpath\n",
    "from rpapy.core import click_vision, write_text_vision\n",
    "from selenium import webdriver\n",
    "from selenium.webdriver.chrome.service import Service as ChromeService\n",
    "from selenium.webdriver.common.by import By\n",
    "from selenium.webdriver.common.keys import Keys\n",
    "from selenium.webdriver.support import expected_conditions as EC\n",
    "from selenium.webdriver.support.ui import WebDriverWait\n",
    "from webdriver_manager.chrome import ChromeDriverManager\n",
    "\n",
    "from config import Config"
   ]
  },
  {
   "cell_type": "code",
   "execution_count": 2,
   "metadata": {},
   "outputs": [],
   "source": [
    "driver = webdriver.Chrome(service=ChromeService(ChromeDriverManager().install()))"
   ]
  },
  {
   "cell_type": "code",
   "execution_count": 3,
   "metadata": {},
   "outputs": [],
   "source": [
    "driver.get(Config.URL)"
   ]
  },
  {
   "cell_type": "code",
   "execution_count": 4,
   "metadata": {},
   "outputs": [],
   "source": [
    "def get_element_by_xpath(driver, xpath, max_wait=10):\n",
    "    try:\n",
    "        element = WebDriverWait(driver, max_wait).until(\n",
    "            EC.element_to_be_clickable((By.XPATH, xpath))\n",
    "        )\n",
    "        return element\n",
    "    except: \n",
    "        return None\n"
   ]
  },
  {
   "cell_type": "code",
   "execution_count": 5,
   "metadata": {},
   "outputs": [],
   "source": [
    "username_field = get_element_by_xpath(driver, '//input[@name=\"username\"]', max_wait=20)\n",
    "username_field.send_keys(Config.USUARIO)"
   ]
  },
  {
   "cell_type": "code",
   "execution_count": 6,
   "metadata": {},
   "outputs": [],
   "source": [
    "password_field = get_element_by_xpath(driver, '//input[@name=\"password\"]', max_wait=20)\n",
    "password_field.send_keys(Config.SENHA)"
   ]
  },
  {
   "cell_type": "code",
   "execution_count": 7,
   "metadata": {},
   "outputs": [],
   "source": [
    "btn_entrar = get_element_by_xpath(driver, '//input[@type=\"image\"]', max_wait=20)\n",
    "btn_entrar.click()"
   ]
  },
  {
   "cell_type": "code",
   "execution_count": 8,
   "metadata": {},
   "outputs": [],
   "source": [
    "link_divida_ativa = get_element_by_xpath(driver, '//a[contains(text(), \"Dívida Ativa\")]', max_wait=20)\n",
    "link_divida_ativa.click()"
   ]
  },
  {
   "cell_type": "code",
   "execution_count": 9,
   "metadata": {},
   "outputs": [],
   "source": [
    "link_outros_servicos = get_element_by_xpath(driver, '//b[contains(text(), \"- Outros\")]//ancestor::a', max_wait=20)\n",
    "link_outros_servicos.click()"
   ]
  },
  {
   "cell_type": "code",
   "execution_count": 10,
   "metadata": {},
   "outputs": [],
   "source": [
    "link_consulta_inscritos = get_element_by_xpath(driver, '//b[contains(text(), \"- Consulta inscritos\")]//ancestor::a', max_wait=20)\n",
    "link_consulta_inscritos.click()"
   ]
  },
  {
   "cell_type": "code",
   "execution_count": 11,
   "metadata": {},
   "outputs": [],
   "source": [
    "data_inicio_field = get_element_by_xpath(driver, '//input[@name=\"dt_ini\"]', max_wait=20)\n",
    "data_inicio_field.clear()\n",
    "data_inicio_field.send_keys('01012022')"
   ]
  },
  {
   "cell_type": "code",
   "execution_count": 12,
   "metadata": {},
   "outputs": [],
   "source": [
    "data_fim_field = get_element_by_xpath(driver, '//input[@name=\"dt_fim\"]', max_wait=20)\n",
    "data_fim_field.clear()\n",
    "data_fim_field.send_keys('31/12/2022')"
   ]
  },
  {
   "cell_type": "code",
   "execution_count": 27,
   "metadata": {},
   "outputs": [
    {
     "ename": "ImageNotFoundException",
     "evalue": "",
     "output_type": "error",
     "traceback": [
      "\u001b[1;31m---------------------------------------------------------------------------\u001b[0m",
      "\u001b[1;31mImageNotFoundException\u001b[0m                    Traceback (most recent call last)",
      "File \u001b[1;32mc:\\Users\\codigo100cera\\envs\\scripts-marcos-venv\\lib\\site-packages\\pyautogui\\__init__.py:172\u001b[0m, in \u001b[0;36mraisePyAutoGUIImageNotFoundException.<locals>.wrapper\u001b[1;34m(*args, **kwargs)\u001b[0m\n\u001b[0;32m    171\u001b[0m \u001b[39mtry\u001b[39;00m:\n\u001b[1;32m--> 172\u001b[0m     \u001b[39mreturn\u001b[39;00m wrappedFunction(\u001b[39m*\u001b[39;49margs, \u001b[39m*\u001b[39;49m\u001b[39m*\u001b[39;49mkwargs)\n\u001b[0;32m    173\u001b[0m \u001b[39mexcept\u001b[39;00m pyscreeze\u001b[39m.\u001b[39mImageNotFoundException:\n",
      "File \u001b[1;32mc:\\Users\\codigo100cera\\envs\\scripts-marcos-venv\\lib\\site-packages\\pyautogui\\__init__.py:210\u001b[0m, in \u001b[0;36mlocateOnScreen\u001b[1;34m(*args, **kwargs)\u001b[0m\n\u001b[0;32m    208\u001b[0m \u001b[39m@raisePyAutoGUIImageNotFoundException\u001b[39m\n\u001b[0;32m    209\u001b[0m \u001b[39mdef\u001b[39;00m \u001b[39mlocateOnScreen\u001b[39m(\u001b[39m*\u001b[39margs, \u001b[39m*\u001b[39m\u001b[39m*\u001b[39mkwargs):\n\u001b[1;32m--> 210\u001b[0m     \u001b[39mreturn\u001b[39;00m pyscreeze\u001b[39m.\u001b[39;49mlocateOnScreen(\u001b[39m*\u001b[39;49margs, \u001b[39m*\u001b[39;49m\u001b[39m*\u001b[39;49mkwargs)\n",
      "File \u001b[1;32mc:\\Users\\codigo100cera\\envs\\scripts-marcos-venv\\lib\\site-packages\\pyscreeze\\__init__.py:405\u001b[0m, in \u001b[0;36mlocateOnScreen\u001b[1;34m(image, minSearchTime, **kwargs)\u001b[0m\n\u001b[0;32m    404\u001b[0m screenshotIm \u001b[39m=\u001b[39m screenshot(region\u001b[39m=\u001b[39m\u001b[39mNone\u001b[39;00m)\n\u001b[1;32m--> 405\u001b[0m retVal \u001b[39m=\u001b[39m locate(image, screenshotIm, \u001b[39m*\u001b[39;49m\u001b[39m*\u001b[39;49mkwargs)\n\u001b[0;32m    406\u001b[0m \u001b[39mtry\u001b[39;00m:\n",
      "File \u001b[1;32mc:\\Users\\codigo100cera\\envs\\scripts-marcos-venv\\lib\\site-packages\\pyscreeze\\__init__.py:383\u001b[0m, in \u001b[0;36mlocate\u001b[1;34m(needleImage, haystackImage, **kwargs)\u001b[0m\n\u001b[0;32m    382\u001b[0m kwargs[\u001b[39m'\u001b[39m\u001b[39mlimit\u001b[39m\u001b[39m'\u001b[39m] \u001b[39m=\u001b[39m \u001b[39m1\u001b[39m\n\u001b[1;32m--> 383\u001b[0m points \u001b[39m=\u001b[39m \u001b[39mtuple\u001b[39;49m(locateAll(needleImage, haystackImage, \u001b[39m*\u001b[39;49m\u001b[39m*\u001b[39;49mkwargs))\n\u001b[0;32m    384\u001b[0m \u001b[39mif\u001b[39;00m \u001b[39mlen\u001b[39m(points) \u001b[39m>\u001b[39m \u001b[39m0\u001b[39m:\n",
      "File \u001b[1;32mc:\\Users\\codigo100cera\\envs\\scripts-marcos-venv\\lib\\site-packages\\pyscreeze\\__init__.py:257\u001b[0m, in \u001b[0;36m_locateAll_opencv\u001b[1;34m(needleImage, haystackImage, grayscale, limit, region, step, confidence)\u001b[0m\n\u001b[0;32m    256\u001b[0m \u001b[39mif\u001b[39;00m USE_IMAGE_NOT_FOUND_EXCEPTION:\n\u001b[1;32m--> 257\u001b[0m     \u001b[39mraise\u001b[39;00m ImageNotFoundException(\u001b[39m'\u001b[39m\u001b[39mCould not locate the image (highest confidence = \u001b[39m\u001b[39m%.3f\u001b[39;00m\u001b[39m)\u001b[39m\u001b[39m'\u001b[39m \u001b[39m%\u001b[39m result\u001b[39m.\u001b[39mmax())\n\u001b[0;32m    258\u001b[0m \u001b[39melse\u001b[39;00m:\n",
      "\u001b[1;31mImageNotFoundException\u001b[0m: Could not locate the image (highest confidence = 0.475)",
      "\nDuring handling of the above exception, another exception occurred:\n",
      "\u001b[1;31mImageNotFoundException\u001b[0m                    Traceback (most recent call last)",
      "\u001b[1;32md:\\05-WORKSPACES\\PythonProjects\\scripts_marcos\\divida_ativa.ipynb Cell 13\u001b[0m line \u001b[0;36m1\n\u001b[1;32m----> <a href='vscode-notebook-cell:/d%3A/05-WORKSPACES/PythonProjects/scripts_marcos/divida_ativa.ipynb#X15sZmlsZQ%3D%3D?line=0'>1</a>\u001b[0m click_vision(\u001b[39m'\u001b[39;49m\u001b[39mbtn_continuar\u001b[39;49m\u001b[39m'\u001b[39;49m, max_wait\u001b[39m=\u001b[39;49m\u001b[39m600\u001b[39;49m)\n",
      "File \u001b[1;32mc:\\Users\\codigo100cera\\envs\\scripts-marcos-venv\\lib\\site-packages\\rpapy\\core\\activities.py:161\u001b[0m, in \u001b[0;36mclick_vision\u001b[1;34m(image_name, identifier_img, backend, button, max_wait, move_x, move_y, delay, before, after, interval, confidence, wait_vanish, wait_attr, ignore_error)\u001b[0m\n\u001b[0;32m    158\u001b[0m attr_name \u001b[39m=\u001b[39m \u001b[39m'\u001b[39m\u001b[39mclick_input\u001b[39m\u001b[39m'\u001b[39m \u001b[39mif\u001b[39;00m backend \u001b[39mis\u001b[39;00m \u001b[39mnot\u001b[39;00m \u001b[39mNone\u001b[39;00m \u001b[39melse\u001b[39;00m \u001b[39m'\u001b[39m\u001b[39mclick\u001b[39m\u001b[39m'\u001b[39m\n\u001b[0;32m    159\u001b[0m execute \u001b[39m=\u001b[39m \u001b[39mTrue\u001b[39;00m\n\u001b[1;32m--> 161\u001b[0m \u001b[39mreturn\u001b[39;00m get_element_vision(image_name,attr_name\u001b[39m=\u001b[39;49mattr_name, identifier_img\u001b[39m=\u001b[39;49midentifier_img, backend\u001b[39m=\u001b[39;49mbackend, \n\u001b[0;32m    162\u001b[0m                             button\u001b[39m=\u001b[39;49mbutton, delay\u001b[39m=\u001b[39;49mdelay, before\u001b[39m=\u001b[39;49mbefore, after\u001b[39m=\u001b[39;49mafter, max_wait\u001b[39m=\u001b[39;49mmax_wait, \n\u001b[0;32m    163\u001b[0m                             interval\u001b[39m=\u001b[39;49minterval, confidence\u001b[39m=\u001b[39;49mconfidence, wait_vanish\u001b[39m=\u001b[39;49mwait_vanish, wait_attr\u001b[39m=\u001b[39;49mwait_attr, \n\u001b[0;32m    164\u001b[0m                             move_x\u001b[39m=\u001b[39;49mmove_x, move_y\u001b[39m=\u001b[39;49mmove_y,ignore_error\u001b[39m=\u001b[39;49mignore_error, execute\u001b[39m=\u001b[39;49mexecute)\n",
      "File \u001b[1;32mc:\\Users\\codigo100cera\\envs\\scripts-marcos-venv\\lib\\site-packages\\rpapy\\core\\activities.py:59\u001b[0m, in \u001b[0;36mget_element_vision\u001b[1;34m(image_name, attr_name, identifier_img, backend, before, after, max_wait, interval, confidence, wait_vanish, execute, wait_attr, move_x, move_y, delay, ignore_error, arguments, kwarguments, *args, **kwargs)\u001b[0m\n\u001b[0;32m     57\u001b[0m coordinate \u001b[39m=\u001b[39m \u001b[39mNone\u001b[39;00m\n\u001b[0;32m     58\u001b[0m \u001b[39mtry\u001b[39;00m:\n\u001b[1;32m---> 59\u001b[0m     coordinate \u001b[39m=\u001b[39m identifier_img(\n\u001b[0;32m     60\u001b[0m             image_name, \n\u001b[0;32m     61\u001b[0m             max_wait\u001b[39m=\u001b[39;49mmax_wait, \n\u001b[0;32m     62\u001b[0m             confidence\u001b[39m=\u001b[39;49mconfidence,\n\u001b[0;32m     63\u001b[0m             wait_vanish\u001b[39m=\u001b[39;49mwait_vanish,\n\u001b[0;32m     64\u001b[0m             interval\u001b[39m=\u001b[39;49minterval, \n\u001b[0;32m     65\u001b[0m             deslocar_x\u001b[39m=\u001b[39;49mmove_x, \n\u001b[0;32m     66\u001b[0m             deslocar_y\u001b[39m=\u001b[39;49mmove_y\n\u001b[0;32m     67\u001b[0m     )\n\u001b[0;32m     68\u001b[0m \u001b[39mexcept\u001b[39;00m ImageNotFoundError \u001b[39mas\u001b[39;00m error:\n\u001b[0;32m     69\u001b[0m     \u001b[39mif\u001b[39;00m ignore_error:\n",
      "File \u001b[1;32mc:\\Users\\codigo100cera\\envs\\scripts-marcos-venv\\lib\\site-packages\\rpapy\\core\\localizador.py:151\u001b[0m, in \u001b[0;36mLocalizadorImagem.__call__\u001b[1;34m(self, image_name, max_wait, confidence, wait_vanish, interval, deslocar_x, deslocar_y)\u001b[0m\n\u001b[0;32m    148\u001b[0m \u001b[39mtry\u001b[39;00m:\n\u001b[0;32m    149\u001b[0m     \u001b[39m# Executa o bloco else se a imagem for encontrada no mapa e efetua um continue para sair do loop\u001b[39;00m\n\u001b[0;32m    150\u001b[0m     \u001b[39mif\u001b[39;00m confidence \u001b[39mis\u001b[39;00m \u001b[39mNone\u001b[39;00m:\n\u001b[1;32m--> 151\u001b[0m         coordenada \u001b[39m=\u001b[39m localizar_na_tela(\u001b[39m*\u001b[39;49m\u001b[39m*\u001b[39;49mimage_region)\n\u001b[0;32m    152\u001b[0m     \u001b[39melse\u001b[39;00m:\n\u001b[0;32m    153\u001b[0m         coordenada \u001b[39m=\u001b[39m localizar_na_tela(\u001b[39m*\u001b[39m\u001b[39m*\u001b[39mimage_region, confidence\u001b[39m=\u001b[39mconfidence)\n",
      "File \u001b[1;32mc:\\Users\\codigo100cera\\envs\\scripts-marcos-venv\\lib\\site-packages\\rpapy\\core\\localizador.py:39\u001b[0m, in \u001b[0;36mlocalizar_na_tela\u001b[1;34m(image, *args, **kwargs)\u001b[0m\n\u001b[0;32m     37\u001b[0m \u001b[39mdef\u001b[39;00m \u001b[39mlocalizar_na_tela\u001b[39m(image, \u001b[39m*\u001b[39margs, \u001b[39m*\u001b[39m\u001b[39m*\u001b[39mkwargs):    \n\u001b[0;32m     38\u001b[0m     img \u001b[39m=\u001b[39m Image\u001b[39m.\u001b[39mopen(image)\n\u001b[1;32m---> 39\u001b[0m     \u001b[39mreturn\u001b[39;00m pyautogui\u001b[39m.\u001b[39;49mlocateOnScreen(img, \u001b[39m*\u001b[39;49margs, \u001b[39m*\u001b[39;49m\u001b[39m*\u001b[39;49mkwargs)\n",
      "File \u001b[1;32mc:\\Users\\codigo100cera\\envs\\scripts-marcos-venv\\lib\\site-packages\\pyautogui\\__init__.py:174\u001b[0m, in \u001b[0;36mraisePyAutoGUIImageNotFoundException.<locals>.wrapper\u001b[1;34m(*args, **kwargs)\u001b[0m\n\u001b[0;32m    172\u001b[0m     \u001b[39mreturn\u001b[39;00m wrappedFunction(\u001b[39m*\u001b[39margs, \u001b[39m*\u001b[39m\u001b[39m*\u001b[39mkwargs)\n\u001b[0;32m    173\u001b[0m \u001b[39mexcept\u001b[39;00m pyscreeze\u001b[39m.\u001b[39mImageNotFoundException:\n\u001b[1;32m--> 174\u001b[0m     \u001b[39mraise\u001b[39;00m ImageNotFoundException\n",
      "\u001b[1;31mImageNotFoundException\u001b[0m: "
     ]
    }
   ],
   "source": [
    "click_vision('btn_continuar', max_wait=600)\n"
   ]
  },
  {
   "cell_type": "code",
   "execution_count": 25,
   "metadata": {},
   "outputs": [
    {
     "ename": "FileNotFoundError",
     "evalue": "[Errno 2] No such file or directory: 'd:/05-WORKSPACES/PythonProjects/scripts_marcos/resources/images/name_file_field-(0, 452, 695, 744).png'",
     "output_type": "error",
     "traceback": [
      "\u001b[1;31m---------------------------------------------------------------------------\u001b[0m",
      "\u001b[1;31mFileNotFoundError\u001b[0m                         Traceback (most recent call last)",
      "\u001b[1;32md:\\05-WORKSPACES\\PythonProjects\\scripts_marcos\\divida_ativa.ipynb Cell 14\u001b[0m line \u001b[0;36m1\n\u001b[1;32m----> <a href='vscode-notebook-cell:/d%3A/05-WORKSPACES/PythonProjects/scripts_marcos/divida_ativa.ipynb#X16sZmlsZQ%3D%3D?line=0'>1</a>\u001b[0m write_text_vision(\u001b[39m'\u001b[39;49m\u001b[39mname_file_field\u001b[39;49m\u001b[39m'\u001b[39;49m, text\u001b[39m=\u001b[39;49m\u001b[39m'\u001b[39;49m\u001b[39mTest\u001b[39;49m\u001b[39m'\u001b[39;49m)\n",
      "File \u001b[1;32mc:\\Users\\codigo100cera\\envs\\scripts-marcos-venv\\lib\\site-packages\\rpapy\\core\\activities.py:136\u001b[0m, in \u001b[0;36mwrite_text_vision\u001b[1;34m(image_name, text, identifier_img, backend, max_wait, wait_vanish, move_x, move_y, delay, before, after, interval, confidence, wait_attr, ignore_error)\u001b[0m\n\u001b[0;32m    132\u001b[0m     text \u001b[39m=\u001b[39m prepare_text_to_pyautogui(text)\n\u001b[0;32m    134\u001b[0m execute \u001b[39m=\u001b[39m \u001b[39mTrue\u001b[39;00m\n\u001b[1;32m--> 136\u001b[0m \u001b[39mreturn\u001b[39;00m get_element_vision(image_name, text, identifier_img\u001b[39m=\u001b[39;49midentifier_img, backend\u001b[39m=\u001b[39;49mbackend, max_wait\u001b[39m=\u001b[39;49mmax_wait, \n\u001b[0;32m    137\u001b[0m                             attr_name\u001b[39m=\u001b[39;49mattr_name, wait_vanish\u001b[39m=\u001b[39;49mwait_vanish, move_x\u001b[39m=\u001b[39;49mmove_x, move_y\u001b[39m=\u001b[39;49mmove_y, delay\u001b[39m=\u001b[39;49mdelay, \n\u001b[0;32m    138\u001b[0m                             before\u001b[39m=\u001b[39;49mbefore, after\u001b[39m=\u001b[39;49mafter, interval\u001b[39m=\u001b[39;49minterval, confidence\u001b[39m=\u001b[39;49mconfidence, wait_attr\u001b[39m=\u001b[39;49mwait_attr, \n\u001b[0;32m    139\u001b[0m                             execute\u001b[39m=\u001b[39;49mexecute, ignore_error\u001b[39m=\u001b[39;49mignore_error)\n",
      "File \u001b[1;32mc:\\Users\\codigo100cera\\envs\\scripts-marcos-venv\\lib\\site-packages\\rpapy\\core\\activities.py:59\u001b[0m, in \u001b[0;36mget_element_vision\u001b[1;34m(image_name, attr_name, identifier_img, backend, before, after, max_wait, interval, confidence, wait_vanish, execute, wait_attr, move_x, move_y, delay, ignore_error, arguments, kwarguments, *args, **kwargs)\u001b[0m\n\u001b[0;32m     57\u001b[0m coordinate \u001b[39m=\u001b[39m \u001b[39mNone\u001b[39;00m\n\u001b[0;32m     58\u001b[0m \u001b[39mtry\u001b[39;00m:\n\u001b[1;32m---> 59\u001b[0m     coordinate \u001b[39m=\u001b[39m identifier_img(\n\u001b[0;32m     60\u001b[0m             image_name, \n\u001b[0;32m     61\u001b[0m             max_wait\u001b[39m=\u001b[39;49mmax_wait, \n\u001b[0;32m     62\u001b[0m             confidence\u001b[39m=\u001b[39;49mconfidence,\n\u001b[0;32m     63\u001b[0m             wait_vanish\u001b[39m=\u001b[39;49mwait_vanish,\n\u001b[0;32m     64\u001b[0m             interval\u001b[39m=\u001b[39;49minterval, \n\u001b[0;32m     65\u001b[0m             deslocar_x\u001b[39m=\u001b[39;49mmove_x, \n\u001b[0;32m     66\u001b[0m             deslocar_y\u001b[39m=\u001b[39;49mmove_y\n\u001b[0;32m     67\u001b[0m     )\n\u001b[0;32m     68\u001b[0m \u001b[39mexcept\u001b[39;00m ImageNotFoundError \u001b[39mas\u001b[39;00m error:\n\u001b[0;32m     69\u001b[0m     \u001b[39mif\u001b[39;00m ignore_error:\n",
      "File \u001b[1;32mc:\\Users\\codigo100cera\\envs\\scripts-marcos-venv\\lib\\site-packages\\rpapy\\core\\localizador.py:151\u001b[0m, in \u001b[0;36mLocalizadorImagem.__call__\u001b[1;34m(self, image_name, max_wait, confidence, wait_vanish, interval, deslocar_x, deslocar_y)\u001b[0m\n\u001b[0;32m    148\u001b[0m \u001b[39mtry\u001b[39;00m:\n\u001b[0;32m    149\u001b[0m     \u001b[39m# Executa o bloco else se a imagem for encontrada no mapa e efetua um continue para sair do loop\u001b[39;00m\n\u001b[0;32m    150\u001b[0m     \u001b[39mif\u001b[39;00m confidence \u001b[39mis\u001b[39;00m \u001b[39mNone\u001b[39;00m:\n\u001b[1;32m--> 151\u001b[0m         coordenada \u001b[39m=\u001b[39m localizar_na_tela(\u001b[39m*\u001b[39;49m\u001b[39m*\u001b[39;49mimage_region)\n\u001b[0;32m    152\u001b[0m     \u001b[39melse\u001b[39;00m:\n\u001b[0;32m    153\u001b[0m         coordenada \u001b[39m=\u001b[39m localizar_na_tela(\u001b[39m*\u001b[39m\u001b[39m*\u001b[39mimage_region, confidence\u001b[39m=\u001b[39mconfidence)\n",
      "File \u001b[1;32mc:\\Users\\codigo100cera\\envs\\scripts-marcos-venv\\lib\\site-packages\\rpapy\\core\\localizador.py:38\u001b[0m, in \u001b[0;36mlocalizar_na_tela\u001b[1;34m(image, *args, **kwargs)\u001b[0m\n\u001b[0;32m     37\u001b[0m \u001b[39mdef\u001b[39;00m \u001b[39mlocalizar_na_tela\u001b[39m(image, \u001b[39m*\u001b[39margs, \u001b[39m*\u001b[39m\u001b[39m*\u001b[39mkwargs):    \n\u001b[1;32m---> 38\u001b[0m     img \u001b[39m=\u001b[39m Image\u001b[39m.\u001b[39;49mopen(image)\n\u001b[0;32m     39\u001b[0m     \u001b[39mreturn\u001b[39;00m pyautogui\u001b[39m.\u001b[39mlocateOnScreen(img, \u001b[39m*\u001b[39margs, \u001b[39m*\u001b[39m\u001b[39m*\u001b[39mkwargs)\n",
      "File \u001b[1;32mc:\\Users\\codigo100cera\\envs\\scripts-marcos-venv\\lib\\site-packages\\PIL\\Image.py:3243\u001b[0m, in \u001b[0;36mopen\u001b[1;34m(fp, mode, formats)\u001b[0m\n\u001b[0;32m   3240\u001b[0m     filename \u001b[39m=\u001b[39m fp\n\u001b[0;32m   3242\u001b[0m \u001b[39mif\u001b[39;00m filename:\n\u001b[1;32m-> 3243\u001b[0m     fp \u001b[39m=\u001b[39m builtins\u001b[39m.\u001b[39;49mopen(filename, \u001b[39m\"\u001b[39;49m\u001b[39mrb\u001b[39;49m\u001b[39m\"\u001b[39;49m)\n\u001b[0;32m   3244\u001b[0m     exclusive_fp \u001b[39m=\u001b[39m \u001b[39mTrue\u001b[39;00m\n\u001b[0;32m   3246\u001b[0m \u001b[39mtry\u001b[39;00m:\n",
      "\u001b[1;31mFileNotFoundError\u001b[0m: [Errno 2] No such file or directory: 'd:/05-WORKSPACES/PythonProjects/scripts_marcos/resources/images/name_file_field-(0, 452, 695, 744).png'"
     ]
    }
   ],
   "source": [
    "write_text_vision('name_file_field', text='Test')"
   ]
  },
  {
   "cell_type": "code",
   "execution_count": 15,
   "metadata": {},
   "outputs": [
    {
     "data": {
      "text/plain": [
       "(1197, 686)"
      ]
     },
     "execution_count": 15,
     "metadata": {},
     "output_type": "execute_result"
    }
   ],
   "source": [
    "click_vision('btn_salvar')"
   ]
  }
 ],
 "metadata": {
  "kernelspec": {
   "display_name": "scripts-marcos-venv",
   "language": "python",
   "name": "python3"
  },
  "language_info": {
   "codemirror_mode": {
    "name": "ipython",
    "version": 3
   },
   "file_extension": ".py",
   "mimetype": "text/x-python",
   "name": "python",
   "nbconvert_exporter": "python",
   "pygments_lexer": "ipython3",
   "version": "3.8.10"
  }
 },
 "nbformat": 4,
 "nbformat_minor": 2
}
